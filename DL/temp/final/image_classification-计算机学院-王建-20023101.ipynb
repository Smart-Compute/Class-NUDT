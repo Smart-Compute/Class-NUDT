{
 "cells": [
  {
   "cell_type": "markdown",
   "metadata": {},
   "source": [
    "# 内容一：在MNIST数据集上构建网络进行分类"
   ]
  },
  {
   "cell_type": "markdown",
   "metadata": {},
   "source": [
    "## 1. 实验前导"
   ]
  },
  {
   "cell_type": "code",
   "execution_count": 1,
   "metadata": {},
   "outputs": [],
   "source": [
    "import torch\n",
    "import torchvision\n",
    "import torch.nn as nn\n",
    "import torch.nn.functional as F\n",
    "import torch.optim as optim\n",
    "from torchvision import datasets, transforms\n",
    "import torch.utils.data as tud\n",
    "import numpy as np"
   ]
  },
  {
   "cell_type": "markdown",
   "metadata": {},
   "source": [
    "## 2. 准备数据"
   ]
  },
  {
   "cell_type": "markdown",
   "metadata": {},
   "source": [
    "### 学会使用Dataloader来加载数据\n",
    "Dataloader能够帮我们打乱数据集，拿到batch数据 \\\n",
    "为了使用Dataloader，需要定义以下三个function\n",
    "- \\__init__: 模型初始化\n",
    "- \\__len__: 返回整个数据集有多少item\n",
    "- \\__getitem__: 根据给定的index返回一个item\n",
    "\n",
    "调用Dataloader之前还要先定义dataset"
   ]
  },
  {
   "cell_type": "code",
   "execution_count": 2,
   "metadata": {},
   "outputs": [],
   "source": [
    "# Pytorch帮助我们预先加载了一些常用的数据集\n",
    "# 如果使用这些数据集，会相对容易的进行数据加载\n",
    "# 例如：常用的Mnist数据集\n",
    "mnist_train_data = datasets.MNIST(\"./data\",train=True,download=True,\n",
    "                                 transform = transforms.Compose([\n",
    "                                     transforms.ToTensor(),\n",
    "                                     transforms.Normalize(mean=(0.13066062,),std=(0.30810776,))\n",
    "                                 ]))\n",
    "batch_size = 64\n",
    "train_dataloader = tud.DataLoader(mnist_train_data,batch_size = batch_size,shuffle=True) # 将dataset转换为iterator\n",
    "mnist_test_data = datasets.MNIST(\"./data\",train=False,download=True,\n",
    "                                 transform = transforms.Compose([\n",
    "                                     transforms.ToTensor(),\n",
    "                                     transforms.Normalize(mean=(0.13066062,),std=(0.30810776,))\n",
    "                                 ]))\n",
    "test_dataloader = tud.DataLoader(mnist_test_data,batch_size = batch_size)"
   ]
  },
  {
   "cell_type": "markdown",
   "metadata": {},
   "source": [
    "## 3. 配置网络"
   ]
  },
  {
   "cell_type": "markdown",
   "metadata": {},
   "source": [
    "### (1) 定义网络\n",
    "- 继承 nn.Module\n",
    "- 初始化函数\n",
    "- forward 函数\n",
    "- 其余可以根据模型需要定义相关的函数"
   ]
  },
  {
   "cell_type": "code",
   "execution_count": 3,
   "metadata": {},
   "outputs": [],
   "source": [
    "# 定义一个简单的基于ConvNet的简单神经网络\n",
    "class Net(nn.Module):\n",
    "    def __init__(self):\n",
    "        super(Net,self).__init__() # the input is 1*28*28\n",
    "        self.conv1 = nn.Conv2d(1,20,5,1) # (28-5)/1+1=24, 20*24*24\n",
    "        self.conv2 = nn.Conv2d(20,50,5,1) # 12-5+1=8\n",
    "        self.fc1 = nn.Linear(4*4*50,500)\n",
    "        self.fc2 = nn.Linear(500,10)\n",
    "    def forward(self,x):\n",
    "        x = F.relu(self.conv1(x)) # 20 * 24 * 24\n",
    "        x = F.max_pool2d(x,2,2) # 20 * 12 * 12\n",
    "        x = F.relu(self.conv2(x)) # 50 * 8 * 8\n",
    "        x = F.max_pool2d(x,2,2) # 50 * 4 * 4\n",
    "        x = x.view(-1,4*4*50)\n",
    "        x = F.relu(self.fc1(x))\n",
    "        x = self.fc2(x)\n",
    "        return x #F.log_softmax(x,dim=1)\n",
    "model = Net()"
   ]
  },
  {
   "cell_type": "markdown",
   "metadata": {},
   "source": [
    "### (2) 定义损失函数"
   ]
  },
  {
   "cell_type": "code",
   "execution_count": 4,
   "metadata": {},
   "outputs": [],
   "source": [
    "loss_fn = nn.CrossEntropyLoss(reduction='mean')"
   ]
  },
  {
   "cell_type": "markdown",
   "metadata": {},
   "source": [
    "### (3) 定义优化算法"
   ]
  },
  {
   "cell_type": "code",
   "execution_count": 5,
   "metadata": {},
   "outputs": [],
   "source": [
    "lr = 0.01\n",
    "momentum = 0.5\n",
    "optimizer = optim.SGD(model.parameters(),lr=lr,momentum=momentum)"
   ]
  },
  {
   "cell_type": "markdown",
   "metadata": {},
   "source": [
    "## 4. 训练网络"
   ]
  },
  {
   "cell_type": "markdown",
   "metadata": {},
   "source": [
    "- 模型一般需要训练若干个epoch\n",
    "- 每个epoch我们把所有数据分成若干个batch\n",
    "- 把每个batch的输入和输出都包装成cuda Tensor\n",
    "- forward pass\n",
    "- 计算loss\n",
    "- 清空gradient\n",
    "- backward pass\n",
    "- 更新模型参数\n",
    "- 每隔一定的iteration输出loss，以及在验证集上做模型的评估"
   ]
  },
  {
   "cell_type": "code",
   "execution_count": 6,
   "metadata": {},
   "outputs": [],
   "source": [
    "def train(model,train_dataloader,loss_fn,optimizer,epoch):\n",
    "    model.train()\n",
    "    for idx, (data, label) in enumerate(train_dataloader):\n",
    "        output = model(data)\n",
    "        loss = loss_fn(output,label)\n",
    "        optimizer.zero_grad()\n",
    "        loss.backward()\n",
    "        optimizer.step()\n",
    "        if idx % 100 == 0:\n",
    "            print(\"Train Epoch: {}, iteration: {}, loss: {}\".format(\n",
    "                epoch,idx,loss.item()))  \n",
    "    return model"
   ]
  },
  {
   "cell_type": "markdown",
   "metadata": {},
   "source": [
    "## 5. 模型评估"
   ]
  },
  {
   "cell_type": "code",
   "execution_count": 7,
   "metadata": {},
   "outputs": [],
   "source": [
    "def test(model,test_dataloader,loss_fn):\n",
    "    model.eval()\n",
    "    total_loss = 0.\n",
    "    correct = 0.\n",
    "    with torch.no_grad():\n",
    "        for idx, (data,target) in enumerate(test_dataloader):\n",
    "            output = model(data) # batch_size * 10        \n",
    "            loss = loss_fn(output,target)*output.size(0)\n",
    "            pred = output.argmax(dim=1)\n",
    "            total_loss += loss\n",
    "            correct += pred.eq(target).sum()\n",
    "    total_loss /= len(test_dataloader.dataset)\n",
    "    acc = 100.*correct/len(test_dataloader.dataset)\n",
    "    print(\"Test Loss:{}, Accuracy:{}\".format(total_loss,acc))\n",
    "    return acc"
   ]
  },
  {
   "cell_type": "code",
   "execution_count": 8,
   "metadata": {},
   "outputs": [
    {
     "name": "stdout",
     "output_type": "stream",
     "text": [
      "Train Epoch: 0, iteration: 0, loss: 2.307435989379883\n",
      "Train Epoch: 0, iteration: 100, loss: 0.5602225065231323\n",
      "Train Epoch: 0, iteration: 200, loss: 0.19598789513111115\n",
      "Train Epoch: 0, iteration: 300, loss: 0.23787333071231842\n",
      "Train Epoch: 0, iteration: 400, loss: 0.08825021237134933\n",
      "Train Epoch: 0, iteration: 500, loss: 0.2534177601337433\n",
      "Train Epoch: 0, iteration: 600, loss: 0.170552060008049\n",
      "Train Epoch: 0, iteration: 700, loss: 0.1840806007385254\n",
      "Train Epoch: 0, iteration: 800, loss: 0.12317674607038498\n",
      "Train Epoch: 0, iteration: 900, loss: 0.06666550040245056\n",
      "Test Loss:0.08838915824890137, Accuracy:97\n",
      "Train Epoch: 1, iteration: 0, loss: 0.0736343190073967\n",
      "Train Epoch: 1, iteration: 100, loss: 0.10537996143102646\n",
      "Train Epoch: 1, iteration: 200, loss: 0.03152836114168167\n",
      "Train Epoch: 1, iteration: 300, loss: 0.07204625755548477\n",
      "Train Epoch: 1, iteration: 400, loss: 0.13851375877857208\n",
      "Train Epoch: 1, iteration: 500, loss: 0.04532371088862419\n",
      "Train Epoch: 1, iteration: 600, loss: 0.03658728301525116\n",
      "Train Epoch: 1, iteration: 700, loss: 0.030321111902594566\n",
      "Train Epoch: 1, iteration: 800, loss: 0.09564661234617233\n",
      "Train Epoch: 1, iteration: 900, loss: 0.08208776265382767\n",
      "Test Loss:0.05511980131268501, Accuracy:98\n"
     ]
    }
   ],
   "source": [
    "num_epochs = 2\n",
    "for epoch in range(num_epochs):\n",
    "    model = train(model,train_dataloader,loss_fn,optimizer,epoch)\n",
    "    test(model,test_dataloader,loss_fn)"
   ]
  },
  {
   "cell_type": "markdown",
   "metadata": {},
   "source": [
    "## 6. 模型存储"
   ]
  },
  {
   "cell_type": "code",
   "execution_count": 9,
   "metadata": {},
   "outputs": [
    {
     "name": "stdout",
     "output_type": "stream",
     "text": [
      "Train Epoch: 0, iteration: 0, loss: 0.027293963357806206\n",
      "Train Epoch: 0, iteration: 100, loss: 0.15356257557868958\n",
      "Train Epoch: 0, iteration: 200, loss: 0.0734483003616333\n",
      "Train Epoch: 0, iteration: 300, loss: 0.043793752789497375\n",
      "Train Epoch: 0, iteration: 400, loss: 0.08779671043157578\n",
      "Train Epoch: 0, iteration: 500, loss: 0.016259178519248962\n",
      "Train Epoch: 0, iteration: 600, loss: 0.03868456929922104\n",
      "Train Epoch: 0, iteration: 700, loss: 0.011153661645948887\n",
      "Train Epoch: 0, iteration: 800, loss: 0.028804047033190727\n",
      "Train Epoch: 0, iteration: 900, loss: 0.07739989459514618\n",
      "Test Loss:0.043091725558042526, Accuracy:98\n",
      "Train Epoch: 1, iteration: 0, loss: 0.11538230627775192\n",
      "Train Epoch: 1, iteration: 100, loss: 0.016172412782907486\n",
      "Train Epoch: 1, iteration: 200, loss: 0.013750119134783745\n",
      "Train Epoch: 1, iteration: 300, loss: 0.009204431436955929\n",
      "Train Epoch: 1, iteration: 400, loss: 0.009066282771527767\n",
      "Train Epoch: 1, iteration: 500, loss: 0.10174877941608429\n",
      "Train Epoch: 1, iteration: 600, loss: 0.026444174349308014\n",
      "Train Epoch: 1, iteration: 700, loss: 0.030768228694796562\n",
      "Train Epoch: 1, iteration: 800, loss: 0.005203457083553076\n",
      "Train Epoch: 1, iteration: 900, loss: 0.10799349099397659\n",
      "Test Loss:0.03979605808854103, Accuracy:98\n"
     ]
    }
   ],
   "source": [
    "#torch.save(model.state_dict(),\"mnist_cnn.pth\")\n",
    "# num_epochs = 2\n",
    "best_valid_acc = 0.\n",
    "for epoch in range(num_epochs):\n",
    "    train(model,train_dataloader,loss_fn,optimizer,epoch)\n",
    "    acc = test(model,test_dataloader,loss_fn)\n",
    "    if acc > best_valid_acc:\n",
    "        best_valid_acc = acc\n",
    "        torch.save(model.state_dict(),\"best_mnist_cnn.pth\")"
   ]
  },
  {
   "cell_type": "markdown",
   "metadata": {},
   "source": [
    "### Load模型"
   ]
  },
  {
   "cell_type": "code",
   "execution_count": 10,
   "metadata": {},
   "outputs": [
    {
     "name": "stdout",
     "output_type": "stream",
     "text": [
      "Test Loss:0.03979605808854103, Accuracy:98\n"
     ]
    },
    {
     "data": {
      "text/plain": [
       "tensor(98)"
      ]
     },
     "execution_count": 10,
     "metadata": {},
     "output_type": "execute_result"
    }
   ],
   "source": [
    "test_model = Net()\n",
    "test_model.load_state_dict(torch.load(\"mnist_cnn.pth\"))\n",
    "test(model,test_dataloader,loss_fn)"
   ]
  },
  {
   "cell_type": "markdown",
   "metadata": {},
   "source": [
    "### For FashionMNIST"
   ]
  },
  {
   "cell_type": "code",
   "execution_count": 11,
   "metadata": {},
   "outputs": [
    {
     "name": "stdout",
     "output_type": "stream",
     "text": [
      "Train Epoch: 0, iteration: 0, loss: 2.295435905456543\n",
      "Train Epoch: 0, iteration: 100, loss: 1.2099932432174683\n",
      "Train Epoch: 0, iteration: 200, loss: 0.9759495854377747\n",
      "Train Epoch: 0, iteration: 300, loss: 0.632256031036377\n",
      "Train Epoch: 0, iteration: 400, loss: 0.7355301380157471\n",
      "Train Epoch: 0, iteration: 500, loss: 0.6270371675491333\n",
      "Train Epoch: 0, iteration: 600, loss: 0.6622246503829956\n",
      "Train Epoch: 0, iteration: 700, loss: 0.5373417139053345\n",
      "Train Epoch: 0, iteration: 800, loss: 0.7718546390533447\n",
      "Train Epoch: 0, iteration: 900, loss: 0.4907580614089966\n",
      "Train Epoch: 0, iteration: 1000, loss: 0.5114668011665344\n",
      "Train Epoch: 0, iteration: 1100, loss: 0.5800931453704834\n",
      "Train Epoch: 0, iteration: 1200, loss: 0.6064159870147705\n",
      "Train Epoch: 0, iteration: 1300, loss: 0.5081970691680908\n",
      "Train Epoch: 0, iteration: 1400, loss: 0.4496583938598633\n",
      "Train Epoch: 0, iteration: 1500, loss: 0.26464536786079407\n",
      "Train Epoch: 0, iteration: 1600, loss: 0.7572592496871948\n",
      "Train Epoch: 0, iteration: 1700, loss: 0.22652947902679443\n",
      "Train Epoch: 0, iteration: 1800, loss: 0.5268774628639221\n",
      "Test Loss:0.4278751015663147, Accuracy:84\n",
      "Train Epoch: 1, iteration: 0, loss: 0.4744577705860138\n",
      "Train Epoch: 1, iteration: 100, loss: 0.5543769001960754\n",
      "Train Epoch: 1, iteration: 200, loss: 0.3234845697879791\n",
      "Train Epoch: 1, iteration: 300, loss: 0.5264131426811218\n",
      "Train Epoch: 1, iteration: 400, loss: 0.3671269118785858\n",
      "Train Epoch: 1, iteration: 500, loss: 0.4967036545276642\n",
      "Train Epoch: 1, iteration: 600, loss: 0.5196651816368103\n",
      "Train Epoch: 1, iteration: 700, loss: 0.2803821265697479\n",
      "Train Epoch: 1, iteration: 800, loss: 0.4555146396160126\n",
      "Train Epoch: 1, iteration: 900, loss: 0.2964628040790558\n",
      "Train Epoch: 1, iteration: 1000, loss: 0.2757051885128021\n",
      "Train Epoch: 1, iteration: 1100, loss: 0.3367825746536255\n",
      "Train Epoch: 1, iteration: 1200, loss: 0.3031455874443054\n",
      "Train Epoch: 1, iteration: 1300, loss: 0.3090485632419586\n",
      "Train Epoch: 1, iteration: 1400, loss: 0.3893447816371918\n",
      "Train Epoch: 1, iteration: 1500, loss: 0.4039168059825897\n",
      "Train Epoch: 1, iteration: 1600, loss: 0.5828801989555359\n",
      "Train Epoch: 1, iteration: 1700, loss: 0.13403907418251038\n",
      "Train Epoch: 1, iteration: 1800, loss: 0.3833215832710266\n",
      "Test Loss:0.3651421368122101, Accuracy:87\n"
     ]
    }
   ],
   "source": [
    "batch_size = 32\n",
    "train_dataloader = tud.DataLoader(\n",
    "    datasets.FashionMNIST(\"./fashion_mnist_data\",train=True,download=True,\n",
    "                   transform=transforms.Compose([\n",
    "                       transforms.ToTensor(),\n",
    "                       transforms.Normalize(mean=(0.2860402,),std=(0.3530239,))\n",
    "                   ])),\n",
    "    batch_size=batch_size,\n",
    "    shuffle=True) # 将dataset转换为iterator\n",
    "test_dataloader = tud.DataLoader(\n",
    "    datasets.FashionMNIST(\"./fashion_mnist_data\",train=False,download=True,\n",
    "                   transform=transforms.Compose([\n",
    "                       transforms.ToTensor(),\n",
    "                       transforms.Normalize(mean=(0.2860402,),std=(0.3530239,))\n",
    "                   ])),\n",
    "    batch_size=batch_size) # 将dataset转换为iterator\n",
    "lr = 0.01\n",
    "momentum = 0.5\n",
    "model = Net()\n",
    "optimizer = optim.SGD(model.parameters(),lr=lr,momentum=momentum)\n",
    "num_epochs = 2\n",
    "\n",
    "for epoch in range(num_epochs):\n",
    "    train(model,train_dataloader,loss_fn,optimizer,epoch)\n",
    "    test(model,test_dataloader,loss_fn)\n",
    "    \n",
    "torch.save(model.state_dict(),\"fashion_mnist_cnn.pth\")"
   ]
  },
  {
   "cell_type": "markdown",
   "metadata": {},
   "source": [
    "# 内容二：CNN模型的迁移学习"
   ]
  },
  {
   "cell_type": "markdown",
   "metadata": {},
   "source": [
    "- 很多时候当我们训练一个新的图像分类任务，我们不会完全从一个随机的模型开始训练，而是利用预训练的模型来加速训练的过程。我们经常使用在ImageNet上的预训练模型\n",
    "- 有两种方法做迁移学习\n",
    "    - finetuning：从一个预训练模型开始，改变一些模型的架构，然后继续训练整个模型的参数；\n",
    "    - feature extraction：不改变预训练模型的参数，只更新我们改变过的部分模型参数。（当成特征提取器来使用）"
   ]
  },
  {
   "cell_type": "markdown",
   "metadata": {},
   "source": [
    "## 1. 实验前导"
   ]
  },
  {
   "cell_type": "code",
   "execution_count": 12,
   "metadata": {},
   "outputs": [],
   "source": [
    "import os\n",
    "import torch\n",
    "import torchvision\n",
    "import torch.nn as nn\n",
    "import torch.nn.functional as F\n",
    "import torch.optim as optim\n",
    "from torchvision import models, datasets, transforms\n",
    "import torch.utils.data as tud\n",
    "import numpy as np"
   ]
  },
  {
   "cell_type": "markdown",
   "metadata": {},
   "source": [
    "## 2. 准备数据"
   ]
  },
  {
   "cell_type": "markdown",
   "metadata": {},
   "source": [
    "数据：使用hymenoptera_data数据集 \\\n",
    "数据集包括两类图片，bees和ants。这些数据都被处理成了可以使用ImageFolder来读取的格式。我们只需要把data_dir设置成数据的根目录，然后把model_name设置成我们想要使用的预训练模型"
   ]
  },
  {
   "cell_type": "code",
   "execution_count": 13,
   "metadata": {},
   "outputs": [],
   "source": [
    "# format\n",
    "data_dir = \"./data/hymenoptera_data\"\n",
    "model_name = \"resnet18\"\n",
    "num_class = 2\n",
    "#feature_extract = True\n",
    "input_size = 224"
   ]
  },
  {
   "cell_type": "markdown",
   "metadata": {},
   "source": [
    "读入数据: 把数据预处理成相应的格式"
   ]
  },
  {
   "cell_type": "code",
   "execution_count": 14,
   "metadata": {},
   "outputs": [],
   "source": [
    "# progress\n",
    "all_imgs = datasets.ImageFolder(os.path.join(data_dir,\"train\"),\n",
    "                                transform=transforms.Compose([\n",
    "                                    transforms.RandomResizedCrop(input_size),\n",
    "                                    transforms.RandomHorizontalFlip(),\n",
    "                                    transforms.ToTensor(),                                    \n",
    "                                ]))\n",
    "loader = tud.DataLoader(all_imgs,batch_size=batch_size,shuffle=True)"
   ]
  },
  {
   "cell_type": "code",
   "execution_count": 15,
   "metadata": {},
   "outputs": [
    {
     "data": {
      "text/plain": [
       "tensor([[[0.7294, 0.7255, 0.7020,  ..., 0.4667, 0.4863, 0.4980],\n",
       "         [0.7137, 0.7059, 0.6863,  ..., 0.4706, 0.4745, 0.4863],\n",
       "         [0.7137, 0.7020, 0.6784,  ..., 0.4706, 0.4824, 0.4941],\n",
       "         ...,\n",
       "         [0.5412, 0.4392, 0.6118,  ..., 0.4980, 0.4510, 0.3843],\n",
       "         [0.5373, 0.4627, 0.4980,  ..., 0.4863, 0.4980, 0.4588],\n",
       "         [0.5922, 0.5020, 0.4314,  ..., 0.4941, 0.4824, 0.4471]],\n",
       "\n",
       "        [[0.7216, 0.7137, 0.6941,  ..., 0.4784, 0.4902, 0.5020],\n",
       "         [0.7137, 0.7059, 0.6863,  ..., 0.4784, 0.4863, 0.4980],\n",
       "         [0.7176, 0.7020, 0.6784,  ..., 0.4824, 0.4863, 0.4980],\n",
       "         ...,\n",
       "         [0.5529, 0.4510, 0.6471,  ..., 0.5216, 0.4941, 0.4078],\n",
       "         [0.5490, 0.4745, 0.5216,  ..., 0.5216, 0.5294, 0.4941],\n",
       "         [0.6196, 0.5137, 0.4549,  ..., 0.5451, 0.5333, 0.4706]],\n",
       "\n",
       "        [[0.7333, 0.7176, 0.6941,  ..., 0.5020, 0.5176, 0.5176],\n",
       "         [0.7333, 0.7176, 0.6980,  ..., 0.4980, 0.5176, 0.5176],\n",
       "         [0.7412, 0.7137, 0.7020,  ..., 0.5176, 0.5216, 0.5176],\n",
       "         ...,\n",
       "         [0.5686, 0.4980, 0.6784,  ..., 0.4941, 0.5529, 0.5373],\n",
       "         [0.5569, 0.4863, 0.5686,  ..., 0.5608, 0.5725, 0.5608],\n",
       "         [0.6353, 0.5098, 0.4941,  ..., 0.6157, 0.6118, 0.5725]]])"
      ]
     },
     "execution_count": 15,
     "metadata": {},
     "output_type": "execute_result"
    }
   ],
   "source": [
    "all_imgs[20][0]"
   ]
  },
  {
   "cell_type": "code",
   "execution_count": 16,
   "metadata": {},
   "outputs": [],
   "source": [
    "# format\n",
    "batch_size = 32\n",
    "train_imgs = datasets.ImageFolder(os.path.join(data_dir,\"train\"),\n",
    "                                transform=transforms.Compose([\n",
    "                                    transforms.RandomResizedCrop(input_size),\n",
    "                                    transforms.RandomHorizontalFlip(),\n",
    "                                    transforms.ToTensor(),\n",
    "                                    transforms.Normalize([0.485, 0.456, 0.406],[0.229,0.224,0.225])\n",
    "                                ]))\n",
    "train_dataloader = tud.DataLoader(train_imgs,batch_size=batch_size,shuffle=True)\n",
    "test_imgs = datasets.ImageFolder(os.path.join(data_dir,\"val\"),\n",
    "                                transform=transforms.Compose([\n",
    "                                    transforms.Resize(input_size),  \n",
    "                                    transforms.CenterCrop(input_size),\n",
    "                                    transforms.ToTensor(),\n",
    "                                    transforms.Normalize([0.485, 0.456, 0.406],[0.229,0.224,0.225])\n",
    "                                ]))\n",
    "test_dataloader = tud.DataLoader(test_imgs,batch_size=batch_size)"
   ]
  },
  {
   "cell_type": "markdown",
   "metadata": {},
   "source": [
    "## 3. 配置网络"
   ]
  },
  {
   "cell_type": "markdown",
   "metadata": {},
   "source": [
    "### (1) 定义网络"
   ]
  },
  {
   "cell_type": "code",
   "execution_count": 17,
   "metadata": {},
   "outputs": [],
   "source": [
    "# format\n",
    "def initialize_model(model_name,num_class,use_pretrained=True,feature_extract=True):\n",
    "    if model_name == \"resnet18\":\n",
    "        model_ft = models.resnet18(pretrained=use_pretrained)\n",
    "        if feature_extract: # do not update the parameters\n",
    "            for param in model_ft.parameters():\n",
    "                param.requires_grad = False\n",
    "        num_ftrs = model_ft.fc.in_features\n",
    "        model_ft.fc = nn.Linear(num_ftrs,num_class)        \n",
    "    else:\n",
    "        print(\"model not implemented\")\n",
    "        return None\n",
    "    return model_ft\n",
    "model_ft = initialize_model(\"resnet18\",2,use_pretrained=False,feature_extract=False)"
   ]
  },
  {
   "cell_type": "code",
   "execution_count": 18,
   "metadata": {},
   "outputs": [
    {
     "name": "stdout",
     "output_type": "stream",
     "text": [
      "True\n",
      "True\n"
     ]
    }
   ],
   "source": [
    "print(model_ft.layer1[0].conv1.weight.requires_grad)\n",
    "print(model_ft.fc.weight.requires_grad)"
   ]
  },
  {
   "cell_type": "markdown",
   "metadata": {},
   "source": [
    "### (2) 定义损失函数"
   ]
  },
  {
   "cell_type": "code",
   "execution_count": 19,
   "metadata": {},
   "outputs": [],
   "source": [
    "loss_fn = nn.CrossEntropyLoss()"
   ]
  },
  {
   "cell_type": "markdown",
   "metadata": {},
   "source": [
    "### (3) 定义优化算法"
   ]
  },
  {
   "cell_type": "code",
   "execution_count": 20,
   "metadata": {},
   "outputs": [],
   "source": [
    "lr = 0.01\n",
    "momentum = 0.5\n",
    "optimizer = optim.SGD(model_ft.parameters(),lr=lr,momentum=momentum)"
   ]
  },
  {
   "cell_type": "markdown",
   "metadata": {},
   "source": [
    "## 4. 训练网络"
   ]
  },
  {
   "cell_type": "code",
   "execution_count": 21,
   "metadata": {},
   "outputs": [],
   "source": [
    "def train_model(model,train_dataloader,loss_fn,optimizer,epoch):\n",
    "    model.train()\n",
    "    total_loss = 0.\n",
    "    total_corrects = 0.\n",
    "    for idx, (inputs, labels) in enumerate(train_dataloader):\n",
    "        outputs = model(inputs)\n",
    "        loss = loss_fn(outputs,labels)\n",
    "        optimizer.zero_grad()\n",
    "        loss.backward()\n",
    "        optimizer.step()\n",
    "        preds = outputs.argmax(dim=1)\n",
    "        total_loss += loss.item() * inputs.size(0)\n",
    "        total_corrects += torch.sum(preds.eq(labels))\n",
    "    epoch_loss = total_loss / len(train_dataloader.dataset)\n",
    "    epoch_accuracy = 100.*total_corrects / len(train_dataloader.dataset)\n",
    "    print(\"Epoch:{}, Training Loss:{}, Traning Acc:{}\".format(epoch,epoch_loss,epoch_accuracy))  \n",
    "    #return model        "
   ]
  },
  {
   "cell_type": "markdown",
   "metadata": {},
   "source": [
    "## 5. 模型评估"
   ]
  },
  {
   "cell_type": "code",
   "execution_count": 22,
   "metadata": {},
   "outputs": [],
   "source": [
    "def test_model(model,test_dataloader,loss_fn):\n",
    "    model.eval()\n",
    "    total_loss = 0.\n",
    "    total_corrects = 0.\n",
    "    with torch.no_grad():\n",
    "        for idx, (inputs, labels) in enumerate(test_dataloader):\n",
    "            outputs = model(inputs)\n",
    "            loss = loss_fn(outputs,labels)\n",
    "            preds = outputs.argmax(dim=1)\n",
    "            total_loss += loss.item() * inputs.size(0)\n",
    "            total_corrects += torch.sum(preds.eq(labels))\n",
    "    epoch_loss = total_loss / len(test_dataloader.dataset)\n",
    "    epoch_accuracy = 100.*total_corrects / len(test_dataloader.dataset)\n",
    "    print(\"acc type:\", epoch_accuracy)\n",
    "    print(\"Test Loss:{}, Test Acc:{}\".format(epoch_loss,epoch_accuracy))  \n",
    "    return epoch_accuracy "
   ]
  },
  {
   "cell_type": "code",
   "execution_count": 23,
   "metadata": {},
   "outputs": [
    {
     "name": "stdout",
     "output_type": "stream",
     "text": [
      "Epoch:0, Training Loss:0.7031608497510191, Traning Acc:58\n",
      "acc type: tensor(50)\n",
      "Test Loss:0.7017492550650454, Test Acc:50\n",
      "Epoch:1, Training Loss:0.6760420105496391, Traning Acc:59\n",
      "acc type: tensor(55)\n",
      "Test Loss:0.6705557723450505, Test Acc:55\n",
      "Epoch:2, Training Loss:0.6359495246996645, Traning Acc:65\n",
      "acc type: tensor(48)\n",
      "Test Loss:0.8494572016148786, Test Acc:48\n",
      "Epoch:3, Training Loss:0.7302298384611724, Traning Acc:57\n",
      "acc type: tensor(69)\n",
      "Test Loss:0.6352221517781027, Test Acc:69\n",
      "Epoch:4, Training Loss:0.6081345179041878, Traning Acc:67\n",
      "acc type: tensor(69)\n",
      "Test Loss:0.582625621868894, Test Acc:69\n"
     ]
    }
   ],
   "source": [
    "num_epochs = 5\n",
    "for epoch in range(num_epochs):\n",
    "    train_model(model_ft,train_dataloader,loss_fn,optimizer,epoch)\n",
    "    acc = test_model(model_ft,test_dataloader,loss_fn)"
   ]
  },
  {
   "cell_type": "markdown",
   "metadata": {},
   "source": [
    "# 扩展：resnet50，冻结某些层参数不训练"
   ]
  },
  {
   "cell_type": "markdown",
   "metadata": {},
   "source": [
    "冻结前7层"
   ]
  },
  {
   "cell_type": "code",
   "execution_count": 24,
   "metadata": {},
   "outputs": [],
   "source": [
    "model_ft = models.resnet50(pretrained=True)\n",
    "ct = 0\n",
    "for child in model_ft.children():\n",
    "    ct += 1\n",
    "    if ct < 7:\n",
    "        for param in child.parameters():\n",
    "            param.requires_grad = False"
   ]
  },
  {
   "cell_type": "code",
   "execution_count": 25,
   "metadata": {},
   "outputs": [],
   "source": [
    "# 优化器中filter一下\n",
    "optimizer = optim.SGD(filter(lambda p: p.requires_grad, model_ft.parameters()), lr=1e-3)"
   ]
  },
  {
   "cell_type": "markdown",
   "metadata": {},
   "source": [
    "## 冻结某些层参数不训练"
   ]
  },
  {
   "cell_type": "code",
   "execution_count": null,
   "metadata": {},
   "outputs": [
    {
     "name": "stdout",
     "output_type": "stream",
     "text": [
      "Epoch:0, Training Loss:8.682191676780826, Traning Acc:0\n",
      "acc type: tensor(0)\n",
      "Test Loss:9.149730897417255, Test Acc:0\n",
      "Epoch:1, Training Loss:6.392732839115331, Traning Acc:4\n",
      "acc type: tensor(5)\n",
      "Test Loss:5.709677166408962, Test Acc:5\n",
      "Epoch:2, Training Loss:4.406351249726092, Traning Acc:15\n",
      "acc type: tensor(25)\n",
      "Test Loss:3.658740886675766, Test Acc:25\n",
      "Epoch:3, Training Loss:2.7739955440896455, Traning Acc:43\n",
      "acc type: tensor(52)\n",
      "Test Loss:2.2434550001730327, Test Acc:52\n"
     ]
    }
   ],
   "source": [
    "num_epochs = 5\n",
    "for epoch in range(num_epochs):\n",
    "    train_model(model_ft,train_dataloader,loss_fn,optimizer,epoch)\n",
    "    acc = test_model(model_ft,test_dataloader,loss_fn)"
   ]
  }
 ],
 "metadata": {
  "kernelspec": {
   "display_name": "Python 3",
   "language": "python",
   "name": "python3"
  },
  "language_info": {
   "codemirror_mode": {
    "name": "ipython",
    "version": 3
   },
   "file_extension": ".py",
   "mimetype": "text/x-python",
   "name": "python",
   "nbconvert_exporter": "python",
   "pygments_lexer": "ipython3",
   "version": "3.6.9"
  }
 },
 "nbformat": 4,
 "nbformat_minor": 2
}
